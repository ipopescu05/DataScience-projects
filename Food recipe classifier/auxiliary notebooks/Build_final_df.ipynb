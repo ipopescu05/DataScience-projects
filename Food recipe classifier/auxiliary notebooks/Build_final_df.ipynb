{
 "cells": [
  {
   "cell_type": "code",
   "execution_count": 1,
   "metadata": {},
   "outputs": [],
   "source": [
    "import pandas as pd\n",
    "import numpy as np\n",
    "import matplotlib.pyplot as plt\n",
    "import seaborn as sns"
   ]
  },
  {
   "cell_type": "code",
   "execution_count": 9,
   "metadata": {},
   "outputs": [
    {
     "data": {
      "text/html": [
       "<div>\n",
       "<style scoped>\n",
       "    .dataframe tbody tr th:only-of-type {\n",
       "        vertical-align: middle;\n",
       "    }\n",
       "\n",
       "    .dataframe tbody tr th {\n",
       "        vertical-align: top;\n",
       "    }\n",
       "\n",
       "    .dataframe thead th {\n",
       "        text-align: right;\n",
       "    }\n",
       "</style>\n",
       "<table border=\"1\" class=\"dataframe\">\n",
       "  <thead>\n",
       "    <tr style=\"text-align: right;\">\n",
       "      <th></th>\n",
       "      <th>title</th>\n",
       "      <th>Fat</th>\n",
       "      <th>Fibers</th>\n",
       "      <th>Sugar</th>\n",
       "      <th>Carbs</th>\n",
       "      <th>Kcal</th>\n",
       "      <th>Protein</th>\n",
       "      <th>Caloric Density</th>\n",
       "      <th>Protein_Kcal Ratio</th>\n",
       "      <th>Kcal Classification</th>\n",
       "      <th>Macronutrients Classification</th>\n",
       "      <th>Diet Suitability</th>\n",
       "      <th>Nutritious</th>\n",
       "    </tr>\n",
       "  </thead>\n",
       "  <tbody>\n",
       "    <tr>\n",
       "      <th>0</th>\n",
       "      <td>German Sweet Potato Salad</td>\n",
       "      <td>3.314384</td>\n",
       "      <td>4.159106</td>\n",
       "      <td>3.581144</td>\n",
       "      <td>12.888457</td>\n",
       "      <td>105.552780</td>\n",
       "      <td>6.301326</td>\n",
       "      <td>4.690366</td>\n",
       "      <td>0.059698</td>\n",
       "      <td>Moderate Calorie</td>\n",
       "      <td>Balanced</td>\n",
       "      <td>High Fiber</td>\n",
       "      <td>True</td>\n",
       "    </tr>\n",
       "    <tr>\n",
       "      <th>1</th>\n",
       "      <td>Black Bean Chili</td>\n",
       "      <td>31.277811</td>\n",
       "      <td>0.542302</td>\n",
       "      <td>1.081013</td>\n",
       "      <td>2.719898</td>\n",
       "      <td>296.066690</td>\n",
       "      <td>0.942940</td>\n",
       "      <td>8.473417</td>\n",
       "      <td>0.003185</td>\n",
       "      <td>Moderate Calorie</td>\n",
       "      <td>High Fat</td>\n",
       "      <td>Low Carb</td>\n",
       "      <td>False</td>\n",
       "    </tr>\n",
       "    <tr>\n",
       "      <th>2</th>\n",
       "      <td>Madeira Duck With Mixed Wild Mushrooms</td>\n",
       "      <td>1.378887</td>\n",
       "      <td>5.561102</td>\n",
       "      <td>5.445622</td>\n",
       "      <td>5.632484</td>\n",
       "      <td>148.269650</td>\n",
       "      <td>18.291302</td>\n",
       "      <td>5.859841</td>\n",
       "      <td>0.123365</td>\n",
       "      <td>Moderate Calorie</td>\n",
       "      <td>High Protein</td>\n",
       "      <td>Low Carb, Low Fat</td>\n",
       "      <td>False</td>\n",
       "    </tr>\n",
       "    <tr>\n",
       "      <th>3</th>\n",
       "      <td>Grand Salmon Spread</td>\n",
       "      <td>3.626564</td>\n",
       "      <td>1.333046</td>\n",
       "      <td>2.526489</td>\n",
       "      <td>5.778238</td>\n",
       "      <td>82.906849</td>\n",
       "      <td>7.470238</td>\n",
       "      <td>4.912987</td>\n",
       "      <td>0.090104</td>\n",
       "      <td>Low Calorie</td>\n",
       "      <td>Balanced</td>\n",
       "      <td>Low Carb, Low Fat</td>\n",
       "      <td>True</td>\n",
       "    </tr>\n",
       "    <tr>\n",
       "      <th>4</th>\n",
       "      <td>Bean And Pasta Salad Recipe</td>\n",
       "      <td>44.435216</td>\n",
       "      <td>3.993024</td>\n",
       "      <td>6.712235</td>\n",
       "      <td>13.147701</td>\n",
       "      <td>471.586120</td>\n",
       "      <td>6.069408</td>\n",
       "      <td>7.408781</td>\n",
       "      <td>0.012870</td>\n",
       "      <td>High Calorie</td>\n",
       "      <td>High Fat</td>\n",
       "      <td>High Fiber</td>\n",
       "      <td>False</td>\n",
       "    </tr>\n",
       "  </tbody>\n",
       "</table>\n",
       "</div>"
      ],
      "text/plain": [
       "                                    title        Fat    Fibers     Sugar  \\\n",
       "0               German Sweet Potato Salad   3.314384  4.159106  3.581144   \n",
       "1                        Black Bean Chili  31.277811  0.542302  1.081013   \n",
       "2  Madeira Duck With Mixed Wild Mushrooms   1.378887  5.561102  5.445622   \n",
       "3                     Grand Salmon Spread   3.626564  1.333046  2.526489   \n",
       "4             Bean And Pasta Salad Recipe  44.435216  3.993024  6.712235   \n",
       "\n",
       "       Carbs        Kcal    Protein  Caloric Density  Protein_Kcal Ratio  \\\n",
       "0  12.888457  105.552780   6.301326         4.690366            0.059698   \n",
       "1   2.719898  296.066690   0.942940         8.473417            0.003185   \n",
       "2   5.632484  148.269650  18.291302         5.859841            0.123365   \n",
       "3   5.778238   82.906849   7.470238         4.912987            0.090104   \n",
       "4  13.147701  471.586120   6.069408         7.408781            0.012870   \n",
       "\n",
       "  Kcal Classification Macronutrients Classification   Diet Suitability  \\\n",
       "0    Moderate Calorie                      Balanced         High Fiber   \n",
       "1    Moderate Calorie                      High Fat           Low Carb   \n",
       "2    Moderate Calorie                  High Protein  Low Carb, Low Fat   \n",
       "3         Low Calorie                      Balanced  Low Carb, Low Fat   \n",
       "4        High Calorie                      High Fat         High Fiber   \n",
       "\n",
       "   Nutritious  \n",
       "0        True  \n",
       "1       False  \n",
       "2       False  \n",
       "3        True  \n",
       "4       False  "
      ]
     },
     "execution_count": 9,
     "metadata": {},
     "output_type": "execute_result"
    }
   ],
   "source": [
    "df = pd.read_csv('recipes_nutrients_info.csv')\n",
    "df.rename(columns={'Unnamed: 0': 'title'}, inplace=True)\n",
    "df.head()"
   ]
  },
  {
   "cell_type": "code",
   "execution_count": 8,
   "metadata": {},
   "outputs": [
    {
     "data": {
      "text/html": [
       "<div>\n",
       "<style scoped>\n",
       "    .dataframe tbody tr th:only-of-type {\n",
       "        vertical-align: middle;\n",
       "    }\n",
       "\n",
       "    .dataframe tbody tr th {\n",
       "        vertical-align: top;\n",
       "    }\n",
       "\n",
       "    .dataframe thead th {\n",
       "        text-align: right;\n",
       "    }\n",
       "</style>\n",
       "<table border=\"1\" class=\"dataframe\">\n",
       "  <thead>\n",
       "    <tr style=\"text-align: right;\">\n",
       "      <th></th>\n",
       "      <th>Unnamed: 0</th>\n",
       "      <th>title</th>\n",
       "      <th>ingredients</th>\n",
       "      <th>directions</th>\n",
       "      <th>NER</th>\n",
       "      <th>ingredients_list</th>\n",
       "    </tr>\n",
       "  </thead>\n",
       "  <tbody>\n",
       "    <tr>\n",
       "      <th>0</th>\n",
       "      <td>0</td>\n",
       "      <td>German Sweet Potato Salad</td>\n",
       "      <td>[\"2 medium sweet potatoes\", \"1 1/2 cups caulif...</td>\n",
       "      <td>[\"Prick the sweet potatoes with a fork, and mi...</td>\n",
       "      <td>[\"sweet potatoes\", \"cauliflower florets\", \"whi...</td>\n",
       "      <td>['sweet potatoes', 'cauliflower florets', 'whi...</td>\n",
       "    </tr>\n",
       "    <tr>\n",
       "      <th>1</th>\n",
       "      <td>1</td>\n",
       "      <td>Black Bean Chili</td>\n",
       "      <td>[\"2 cup black beans, soak over nite\", \"4 cup w...</td>\n",
       "      <td>[\"recipe was based on recipe from cookbook 'In...</td>\n",
       "      <td>[\"black beans\", \"water\", \"bell pepper\", \"onion...</td>\n",
       "      <td>['black beans', 'water', 'bell pepper', 'onion...</td>\n",
       "    </tr>\n",
       "    <tr>\n",
       "      <th>2</th>\n",
       "      <td>2</td>\n",
       "      <td>Madeira Duck With Mixed Wild Mushrooms</td>\n",
       "      <td>[\"4 boneless duck breasts, skinned\", \"3 garlic...</td>\n",
       "      <td>[\"Slice the duck breasts and place in a shallo...</td>\n",
       "      <td>[\"duck breasts\", \"garlic\", \"chicken\", \"madeira...</td>\n",
       "      <td>['duck breasts', 'garlic', 'chicken', 'madeira...</td>\n",
       "    </tr>\n",
       "    <tr>\n",
       "      <th>3</th>\n",
       "      <td>3</td>\n",
       "      <td>Grand Salmon Spread</td>\n",
       "      <td>[\"1 pkg. (3 oz.) PHILADELPHIA Cream Cheese, so...</td>\n",
       "      <td>[\"Mix cream cheese, juice and horseradish unti...</td>\n",
       "      <td>[\"PHILADELPHIA Cream Cheese\", \"lemon juice\", \"...</td>\n",
       "      <td>['PHILADELPHIA Cream Cheese', 'lemon juice', '...</td>\n",
       "    </tr>\n",
       "    <tr>\n",
       "      <th>4</th>\n",
       "      <td>4</td>\n",
       "      <td>Bean And Pasta Salad Recipe</td>\n",
       "      <td>[\"4 ounce rotini (corkscrew) pasta\", \"15 ounce...</td>\n",
       "      <td>[\"1.\", \"Cook pasta till al dente in plenty of ...</td>\n",
       "      <td>[\"rotini\", \"black beans\", \"red pepper\", \"red o...</td>\n",
       "      <td>['rotini', 'black beans', 'red pepper', 'red o...</td>\n",
       "    </tr>\n",
       "  </tbody>\n",
       "</table>\n",
       "</div>"
      ],
      "text/plain": [
       "   Unnamed: 0                                   title  \\\n",
       "0           0               German Sweet Potato Salad   \n",
       "1           1                        Black Bean Chili   \n",
       "2           2  Madeira Duck With Mixed Wild Mushrooms   \n",
       "3           3                     Grand Salmon Spread   \n",
       "4           4             Bean And Pasta Salad Recipe   \n",
       "\n",
       "                                         ingredients  \\\n",
       "0  [\"2 medium sweet potatoes\", \"1 1/2 cups caulif...   \n",
       "1  [\"2 cup black beans, soak over nite\", \"4 cup w...   \n",
       "2  [\"4 boneless duck breasts, skinned\", \"3 garlic...   \n",
       "3  [\"1 pkg. (3 oz.) PHILADELPHIA Cream Cheese, so...   \n",
       "4  [\"4 ounce rotini (corkscrew) pasta\", \"15 ounce...   \n",
       "\n",
       "                                          directions  \\\n",
       "0  [\"Prick the sweet potatoes with a fork, and mi...   \n",
       "1  [\"recipe was based on recipe from cookbook 'In...   \n",
       "2  [\"Slice the duck breasts and place in a shallo...   \n",
       "3  [\"Mix cream cheese, juice and horseradish unti...   \n",
       "4  [\"1.\", \"Cook pasta till al dente in plenty of ...   \n",
       "\n",
       "                                                 NER  \\\n",
       "0  [\"sweet potatoes\", \"cauliflower florets\", \"whi...   \n",
       "1  [\"black beans\", \"water\", \"bell pepper\", \"onion...   \n",
       "2  [\"duck breasts\", \"garlic\", \"chicken\", \"madeira...   \n",
       "3  [\"PHILADELPHIA Cream Cheese\", \"lemon juice\", \"...   \n",
       "4  [\"rotini\", \"black beans\", \"red pepper\", \"red o...   \n",
       "\n",
       "                                    ingredients_list  \n",
       "0  ['sweet potatoes', 'cauliflower florets', 'whi...  \n",
       "1  ['black beans', 'water', 'bell pepper', 'onion...  \n",
       "2  ['duck breasts', 'garlic', 'chicken', 'madeira...  \n",
       "3  ['PHILADELPHIA Cream Cheese', 'lemon juice', '...  \n",
       "4  ['rotini', 'black beans', 'red pepper', 'red o...  "
      ]
     },
     "execution_count": 8,
     "metadata": {},
     "output_type": "execute_result"
    }
   ],
   "source": [
    "#prepare data for finetunning \n",
    "recipes_df = pd.read_csv('sampled_1M.csv')\n",
    "recipes_df.head()"
   ]
  },
  {
   "cell_type": "code",
   "execution_count": 26,
   "metadata": {},
   "outputs": [
    {
     "name": "stdout",
     "output_type": "stream",
     "text": [
      "(201091, 4)\n"
     ]
    },
    {
     "data": {
      "text/html": [
       "<div>\n",
       "<style scoped>\n",
       "    .dataframe tbody tr th:only-of-type {\n",
       "        vertical-align: middle;\n",
       "    }\n",
       "\n",
       "    .dataframe tbody tr th {\n",
       "        vertical-align: top;\n",
       "    }\n",
       "\n",
       "    .dataframe thead th {\n",
       "        text-align: right;\n",
       "    }\n",
       "</style>\n",
       "<table border=\"1\" class=\"dataframe\">\n",
       "  <thead>\n",
       "    <tr style=\"text-align: right;\">\n",
       "      <th></th>\n",
       "      <th>title</th>\n",
       "      <th>ingredients</th>\n",
       "      <th>directions</th>\n",
       "      <th>Nutritious</th>\n",
       "    </tr>\n",
       "  </thead>\n",
       "  <tbody>\n",
       "    <tr>\n",
       "      <th>0</th>\n",
       "      <td>German Sweet Potato Salad</td>\n",
       "      <td>[\"2 medium sweet potatoes\", \"1 1/2 cups caulif...</td>\n",
       "      <td>[\"Prick the sweet potatoes with a fork, and mi...</td>\n",
       "      <td>True</td>\n",
       "    </tr>\n",
       "    <tr>\n",
       "      <th>1</th>\n",
       "      <td>Black Bean Chili</td>\n",
       "      <td>[\"2 cup black beans, soak over nite\", \"4 cup w...</td>\n",
       "      <td>[\"recipe was based on recipe from cookbook 'In...</td>\n",
       "      <td>False</td>\n",
       "    </tr>\n",
       "    <tr>\n",
       "      <th>2</th>\n",
       "      <td>Madeira Duck With Mixed Wild Mushrooms</td>\n",
       "      <td>[\"4 boneless duck breasts, skinned\", \"3 garlic...</td>\n",
       "      <td>[\"Slice the duck breasts and place in a shallo...</td>\n",
       "      <td>False</td>\n",
       "    </tr>\n",
       "    <tr>\n",
       "      <th>3</th>\n",
       "      <td>Grand Salmon Spread</td>\n",
       "      <td>[\"1 pkg. (3 oz.) PHILADELPHIA Cream Cheese, so...</td>\n",
       "      <td>[\"Mix cream cheese, juice and horseradish unti...</td>\n",
       "      <td>True</td>\n",
       "    </tr>\n",
       "    <tr>\n",
       "      <th>4</th>\n",
       "      <td>Bean And Pasta Salad Recipe</td>\n",
       "      <td>[\"4 ounce rotini (corkscrew) pasta\", \"15 ounce...</td>\n",
       "      <td>[\"1.\", \"Cook pasta till al dente in plenty of ...</td>\n",
       "      <td>False</td>\n",
       "    </tr>\n",
       "  </tbody>\n",
       "</table>\n",
       "</div>"
      ],
      "text/plain": [
       "                                    title  \\\n",
       "0               German Sweet Potato Salad   \n",
       "1                        Black Bean Chili   \n",
       "2  Madeira Duck With Mixed Wild Mushrooms   \n",
       "3                     Grand Salmon Spread   \n",
       "4             Bean And Pasta Salad Recipe   \n",
       "\n",
       "                                         ingredients  \\\n",
       "0  [\"2 medium sweet potatoes\", \"1 1/2 cups caulif...   \n",
       "1  [\"2 cup black beans, soak over nite\", \"4 cup w...   \n",
       "2  [\"4 boneless duck breasts, skinned\", \"3 garlic...   \n",
       "3  [\"1 pkg. (3 oz.) PHILADELPHIA Cream Cheese, so...   \n",
       "4  [\"4 ounce rotini (corkscrew) pasta\", \"15 ounce...   \n",
       "\n",
       "                                          directions  Nutritious  \n",
       "0  [\"Prick the sweet potatoes with a fork, and mi...        True  \n",
       "1  [\"recipe was based on recipe from cookbook 'In...       False  \n",
       "2  [\"Slice the duck breasts and place in a shallo...       False  \n",
       "3  [\"Mix cream cheese, juice and horseradish unti...        True  \n",
       "4  [\"1.\", \"Cook pasta till al dente in plenty of ...       False  "
      ]
     },
     "execution_count": 26,
     "metadata": {},
     "output_type": "execute_result"
    }
   ],
   "source": [
    "# merge the two dataframes by title\n",
    "merged_df = pd.merge(recipes_df, df[['title', 'Nutritious']], on='title', how='inner')\n",
    "merged_df.dropna(inplace=True)\n",
    "merged_df.drop_duplicates()\n",
    "merged_df.drop(columns=['ingredients_list', 'NER', 'Unnamed: 0'], inplace=True)\n",
    "merged_df.reset_index(drop=True, inplace=True)\n",
    "print(merged_df.shape)\n",
    "merged_df.head()"
   ]
  },
  {
   "cell_type": "code",
   "execution_count": 27,
   "metadata": {},
   "outputs": [
    {
     "data": {
      "text/html": [
       "<div>\n",
       "<style scoped>\n",
       "    .dataframe tbody tr th:only-of-type {\n",
       "        vertical-align: middle;\n",
       "    }\n",
       "\n",
       "    .dataframe tbody tr th {\n",
       "        vertical-align: top;\n",
       "    }\n",
       "\n",
       "    .dataframe thead th {\n",
       "        text-align: right;\n",
       "    }\n",
       "</style>\n",
       "<table border=\"1\" class=\"dataframe\">\n",
       "  <thead>\n",
       "    <tr style=\"text-align: right;\">\n",
       "      <th></th>\n",
       "      <th>Nutritious</th>\n",
       "      <th>text</th>\n",
       "    </tr>\n",
       "  </thead>\n",
       "  <tbody>\n",
       "    <tr>\n",
       "      <th>0</th>\n",
       "      <td>True</td>\n",
       "      <td>title: German Sweet Potato Salad ingredients: ...</td>\n",
       "    </tr>\n",
       "    <tr>\n",
       "      <th>1</th>\n",
       "      <td>False</td>\n",
       "      <td>title: Black Bean Chili ingredients: [\"2 cup b...</td>\n",
       "    </tr>\n",
       "    <tr>\n",
       "      <th>2</th>\n",
       "      <td>False</td>\n",
       "      <td>title: Madeira Duck With Mixed Wild Mushrooms ...</td>\n",
       "    </tr>\n",
       "    <tr>\n",
       "      <th>3</th>\n",
       "      <td>True</td>\n",
       "      <td>title: Grand Salmon Spread ingredients: [\"1 pk...</td>\n",
       "    </tr>\n",
       "    <tr>\n",
       "      <th>4</th>\n",
       "      <td>False</td>\n",
       "      <td>title: Bean And Pasta Salad Recipe ingredients...</td>\n",
       "    </tr>\n",
       "  </tbody>\n",
       "</table>\n",
       "</div>"
      ],
      "text/plain": [
       "   Nutritious                                               text\n",
       "0        True  title: German Sweet Potato Salad ingredients: ...\n",
       "1       False  title: Black Bean Chili ingredients: [\"2 cup b...\n",
       "2       False  title: Madeira Duck With Mixed Wild Mushrooms ...\n",
       "3        True  title: Grand Salmon Spread ingredients: [\"1 pk...\n",
       "4       False  title: Bean And Pasta Salad Recipe ingredients..."
      ]
     },
     "execution_count": 27,
     "metadata": {},
     "output_type": "execute_result"
    }
   ],
   "source": [
    "#merge the title, ingredients and directions into one column\n",
    "#Mark the title, ingredients and directions with a special token\n",
    "merged_df['title'] = merged_df['title'].apply(lambda x: 'title: ' + x)\n",
    "merged_df['ingredients'] = merged_df['ingredients'].apply(lambda x: 'ingredients: ' + x)\n",
    "merged_df['directions'] = merged_df['directions'].apply(lambda x: 'directions: ' + x)\n",
    "merged_df['text'] = merged_df['title'] + ' ' + merged_df['ingredients'] + ' ' + merged_df['directions']\n",
    "merged_df.drop(columns=['title', 'ingredients', 'directions'], inplace=True)\n",
    "merged_df.head()"
   ]
  },
  {
   "cell_type": "markdown",
   "metadata": {},
   "source": [
    "Fine tunning BERT\n",
    "\n"
   ]
  },
  {
   "cell_type": "code",
   "execution_count": 28,
   "metadata": {},
   "outputs": [
    {
     "name": "stderr",
     "output_type": "stream",
     "text": [
      "/var/folders/1y/r5jmwn4n0r599hsjjrhbwstm0000gn/T/ipykernel_3150/3958619569.py:5: UserWarning: \n",
      "\n",
      "`distplot` is a deprecated function and will be removed in seaborn v0.14.0.\n",
      "\n",
      "Please adapt your code to use either `displot` (a figure-level function with\n",
      "similar flexibility) or `histplot` (an axes-level function for histograms).\n",
      "\n",
      "For a guide to updating your code to use the new functions, please see\n",
      "https://gist.github.com/mwaskom/de44147ed2974457ad6372750bbe5751\n",
      "\n",
      "  sns.distplot(merged_df['text_length'])\n"
     ]
    },
    {
     "data": {
      "image/png": "[encoded data removed]",
      "text/plain": [
       "<Figure size 640x480 with 1 Axes>"
      ]
     },
     "metadata": {},
     "output_type": "display_data"
    }
   ],
   "source": [
    "#check the distribution of the length of the text\n",
    "\n",
    "merged_df['text_length'] = merged_df['text'].apply(lambda x: len(x.split()))\n",
    "merged_df = merged_df[merged_df['text_length'] <= 512]\n",
    "sns.distplot(merged_df['text_length'])  \n",
    "plt.show()"
   ]
  },
  {
   "cell_type": "code",
   "execution_count": null,
   "metadata": {},
   "outputs": [],
   "source": [
    "from sklearn.model_selection import train_test_split\n",
    "\n",
    "# Split into train and test sets\n",
    "train_texts, test_texts, train_labels, test_labels = train_test_split(\n",
    "    df[\"recipe_text\"], df[\"Nutritious\"], test_size=0.2, random_state=42\n",
    ")\n",
    "\n",
    "# Convert to list format\n",
    "train_texts, test_texts = train_texts.tolist(), test_texts.tolist()\n",
    "train_labels, test_labels = train_labels.tolist(), test_labels.tolist()\n"
   ]
  },
  {
   "cell_type": "code",
   "execution_count": 30,
   "metadata": {},
   "outputs": [],
   "source": [
    "from transformers import AutoModelForSequenceClassification, AutoTokenizer\n",
    "\n",
    "# Load the fine-tuned model and tokenizer\n",
    "model_name = \"model\"  # Replace with the actual path\n",
    "model = AutoModelForSequenceClassification.from_pretrained(model_name)\n",
    "tokenizer = AutoTokenizer.from_pretrained(model_name)\n",
    "\n"
   ]
  },
  {
   "cell_type": "code",
   "execution_count": 46,
   "metadata": {},
   "outputs": [
    {
     "name": "stdout",
     "output_type": "stream",
     "text": [
      "title: Peanut Butter Graham Squares With Dark Chocolate Drizzle ingredients: [\"4 -5 whole graham crackers\", \"34 cup graham cracker crumbs\", \"8 tablespoons margarine, softened\", \"1 14 cups confectioners' sugar\", \"6 tablespoons reduced-calorie peanut butter\", \"12 teaspoon vanilla\", \"14 teaspoon salt\", \"melted dark chocolate, to drizzle\"] directions: [\"Arrange whole graham crackers in the bottom of an 8x8\\\" square baking dish.\", \"In a medium mixing bowl, beat together graham cracker crumbs, butter, sugar, peanut butter, vanilla and salt until smooth.\", \"Scoop this mixture into the baking dish and gently spread over the graham crackers.\", \"Cover and place in the refrigerator for at least 1 hour.\", \"Cut into squares and drizzle with melted dark chocolate.\"]\n"
     ]
    }
   ],
   "source": [
    "\n",
    "print(test_text)\n",
    "model_inputs = tokenizer(test_text, return_tensors=\"pt\")\n",
    "model_outputs = model(**model_inputs)"
   ]
  },
  {
   "cell_type": "code",
   "execution_count": 90,
   "metadata": {},
   "outputs": [],
   "source": [
    "import torch\n",
    "def predict_nutritious(text):\n",
    "    model_inputs = tokenizer(text, return_tensors=\"pt\", truncation=True, padding=True)\n",
    "    model_outputs = model(**model_inputs)\n",
    "    logits = model_outputs.logits\n",
    "    score = logits[0][0].item()\n",
    "    if score > 0.414:\n",
    "        return (1, score)\n",
    "    else:\n",
    "        return (0, score)"
   ]
  },
  {
   "cell_type": "code",
   "execution_count": 80,
   "metadata": {},
   "outputs": [
    {
     "data": {
      "text/plain": [
       "1"
      ]
     },
     "execution_count": 80,
     "metadata": {},
     "output_type": "execute_result"
    }
   ],
   "source": [
    "text = merged_df['text'][3]\n",
    "result = predict_nutritious(text)\n",
    "result"
   ]
  },
  {
   "cell_type": "code",
   "execution_count": 74,
   "metadata": {},
   "outputs": [
    {
     "data": {
      "text/plain": [
       "0.0929337739944458"
      ]
     },
     "execution_count": 74,
     "metadata": {},
     "output_type": "execute_result"
    }
   ],
   "source": [
    "result[0][0].item()"
   ]
  },
  {
   "cell_type": "code",
   "execution_count": 81,
   "metadata": {},
   "outputs": [],
   "source": [
    "#predict the nutritious of the recipes\n",
    "test_df = pd.read_csv('full_dataset.csv')\n"
   ]
  },
  {
   "cell_type": "code",
   "execution_count": 84,
   "metadata": {},
   "outputs": [
    {
     "name": "stderr",
     "output_type": "stream",
     "text": [
      "/var/folders/1y/r5jmwn4n0r599hsjjrhbwstm0000gn/T/ipykernel_3150/3704905507.py:2: SettingWithCopyWarning: \n",
      "A value is trying to be set on a copy of a slice from a DataFrame.\n",
      "Try using .loc[row_indexer,col_indexer] = value instead\n",
      "\n",
      "See the caveats in the documentation: https://pandas.pydata.org/pandas-docs/stable/user_guide/indexing.html#returning-a-view-versus-a-copy\n",
      "  test_sample['title'] = test_sample['title'].apply(lambda x: 'title: ' + x)\n",
      "/var/folders/1y/r5jmwn4n0r599hsjjrhbwstm0000gn/T/ipykernel_3150/3704905507.py:3: SettingWithCopyWarning: \n",
      "A value is trying to be set on a copy of a slice from a DataFrame.\n",
      "Try using .loc[row_indexer,col_indexer] = value instead\n",
      "\n",
      "See the caveats in the documentation: https://pandas.pydata.org/pandas-docs/stable/user_guide/indexing.html#returning-a-view-versus-a-copy\n",
      "  test_sample['ingredients'] = test_sample['ingredients'].apply(lambda x: 'ingredients: ' + x)\n",
      "/var/folders/1y/r5jmwn4n0r599hsjjrhbwstm0000gn/T/ipykernel_3150/3704905507.py:4: SettingWithCopyWarning: \n",
      "A value is trying to be set on a copy of a slice from a DataFrame.\n",
      "Try using .loc[row_indexer,col_indexer] = value instead\n",
      "\n",
      "See the caveats in the documentation: https://pandas.pydata.org/pandas-docs/stable/user_guide/indexing.html#returning-a-view-versus-a-copy\n",
      "  test_sample['directions'] = test_sample['directions'].apply(lambda x: 'directions: ' + x)\n",
      "/var/folders/1y/r5jmwn4n0r599hsjjrhbwstm0000gn/T/ipykernel_3150/3704905507.py:5: SettingWithCopyWarning: \n",
      "A value is trying to be set on a copy of a slice from a DataFrame.\n",
      "Try using .loc[row_indexer,col_indexer] = value instead\n",
      "\n",
      "See the caveats in the documentation: https://pandas.pydata.org/pandas-docs/stable/user_guide/indexing.html#returning-a-view-versus-a-copy\n",
      "  test_sample['text'] = test_sample['title'] + ' ' + test_sample['ingredients'] + ' ' + test_sample['directions']\n",
      "/var/folders/1y/r5jmwn4n0r599hsjjrhbwstm0000gn/T/ipykernel_3150/3704905507.py:6: SettingWithCopyWarning: \n",
      "A value is trying to be set on a copy of a slice from a DataFrame\n",
      "\n",
      "See the caveats in the documentation: https://pandas.pydata.org/pandas-docs/stable/user_guide/indexing.html#returning-a-view-versus-a-copy\n",
      "  test_sample.drop(columns=['title', 'ingredients', 'directions', 'link', 'source', 'NER', 'Unnamed: 0'], inplace=True)\n"
     ]
    },
    {
     "data": {
      "text/html": [
       "<div>\n",
       "<style scoped>\n",
       "    .dataframe tbody tr th:only-of-type {\n",
       "        vertical-align: middle;\n",
       "    }\n",
       "\n",
       "    .dataframe tbody tr th {\n",
       "        vertical-align: top;\n",
       "    }\n",
       "\n",
       "    .dataframe thead th {\n",
       "        text-align: right;\n",
       "    }\n",
       "</style>\n",
       "<table border=\"1\" class=\"dataframe\">\n",
       "  <thead>\n",
       "    <tr style=\"text-align: right;\">\n",
       "      <th></th>\n",
       "      <th>text</th>\n",
       "    </tr>\n",
       "  </thead>\n",
       "  <tbody>\n",
       "    <tr>\n",
       "      <th>0</th>\n",
       "      <td>title: No-Bake Nut Cookies ingredients: [\"1 c....</td>\n",
       "    </tr>\n",
       "    <tr>\n",
       "      <th>1</th>\n",
       "      <td>title: Jewell Ball'S Chicken ingredients: [\"1 ...</td>\n",
       "    </tr>\n",
       "    <tr>\n",
       "      <th>2</th>\n",
       "      <td>title: Creamy Corn ingredients: [\"2 (16 oz.) p...</td>\n",
       "    </tr>\n",
       "    <tr>\n",
       "      <th>3</th>\n",
       "      <td>title: Chicken Funny ingredients: [\"1 large wh...</td>\n",
       "    </tr>\n",
       "    <tr>\n",
       "      <th>4</th>\n",
       "      <td>title: Reeses Cups(Candy)   ingredients: [\"1 c...</td>\n",
       "    </tr>\n",
       "  </tbody>\n",
       "</table>\n",
       "</div>"
      ],
      "text/plain": [
       "                                                text\n",
       "0  title: No-Bake Nut Cookies ingredients: [\"1 c....\n",
       "1  title: Jewell Ball'S Chicken ingredients: [\"1 ...\n",
       "2  title: Creamy Corn ingredients: [\"2 (16 oz.) p...\n",
       "3  title: Chicken Funny ingredients: [\"1 large wh...\n",
       "4  title: Reeses Cups(Candy)   ingredients: [\"1 c..."
      ]
     },
     "execution_count": 84,
     "metadata": {},
     "output_type": "execute_result"
    }
   ],
   "source": [
    "test_sample = test_df[:100]\n",
    "test_sample['title'] = test_sample['title'].apply(lambda x: 'title: ' + x)\n",
    "test_sample['ingredients'] = test_sample['ingredients'].apply(lambda x: 'ingredients: ' + x)\n",
    "test_sample['directions'] = test_sample['directions'].apply(lambda x: 'directions: ' + x)\n",
    "test_sample['text'] = test_sample['title'] + ' ' + test_sample['ingredients'] + ' ' + test_sample['directions']\n",
    "test_sample.drop(columns=['title', 'ingredients', 'directions', 'link', 'source', 'NER', 'Unnamed: 0'], inplace=True)\n",
    "test_sample.head()"
   ]
  },
  {
   "cell_type": "code",
   "execution_count": 85,
   "metadata": {},
   "outputs": [
    {
     "name": "stderr",
     "output_type": "stream",
     "text": [
      "/var/folders/1y/r5jmwn4n0r599hsjjrhbwstm0000gn/T/ipykernel_3150/2947068236.py:1: SettingWithCopyWarning: \n",
      "A value is trying to be set on a copy of a slice from a DataFrame.\n",
      "Try using .loc[row_indexer,col_indexer] = value instead\n",
      "\n",
      "See the caveats in the documentation: https://pandas.pydata.org/pandas-docs/stable/user_guide/indexing.html#returning-a-view-versus-a-copy\n",
      "  test_sample['Nutritious'] = test_sample['text'].apply(lambda x: predict_nutritious(x))\n"
     ]
    }
   ],
   "source": [
    "test_sample['Nutritious'] = test_sample['text'].apply(lambda x: predict_nutritious(x))"
   ]
  },
  {
   "cell_type": "code",
   "execution_count": 91,
   "metadata": {},
   "outputs": [
    {
     "data": {
      "text/plain": [
       "(1, 0.46827346086502075)"
      ]
     },
     "execution_count": 91,
     "metadata": {},
     "output_type": "execute_result"
    }
   ],
   "source": [
    "text = 'title: Oat meal pancakes with oat milk ingredients: 1 cup oats, 2 eggs, 1 cup oat milk, a pinch of cinamon, 2 apples directions: Mix the ingredients together and blend until smooth and then cook on a pan using just a bit of vegetable oil'\n",
    "predict_nutritious(text)"
   ]
  }
 ],
 "metadata": {
  "kernelspec": {
   "display_name": "base",
   "language": "python",
   "name": "python3"
  },
  "language_info": {
   "codemirror_mode": {
    "name": "ipython",
    "version": 3
   },
   "file_extension": ".py",
   "mimetype": "text/x-python",
   "name": "python",
   "nbconvert_exporter": "python",
   "pygments_lexer": "ipython3",
   "version": "3.12.7"
  }
 },
 "nbformat": 4,
 "nbformat_minor": 2
}
