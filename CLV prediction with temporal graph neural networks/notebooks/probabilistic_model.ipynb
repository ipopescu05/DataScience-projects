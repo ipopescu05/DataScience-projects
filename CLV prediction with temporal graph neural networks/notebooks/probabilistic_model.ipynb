{
 "cells": [
  {
   "cell_type": "code",
   "execution_count": 160,
   "metadata": {},
   "outputs": [
    {
     "data": {
      "text/html": [
       "<div>\n",
       "<style scoped>\n",
       "    .dataframe tbody tr th:only-of-type {\n",
       "        vertical-align: middle;\n",
       "    }\n",
       "\n",
       "    .dataframe tbody tr th {\n",
       "        vertical-align: top;\n",
       "    }\n",
       "\n",
       "    .dataframe thead th {\n",
       "        text-align: right;\n",
       "    }\n",
       "</style>\n",
       "<table border=\"1\" class=\"dataframe\">\n",
       "  <thead>\n",
       "    <tr style=\"text-align: right;\">\n",
       "      <th></th>\n",
       "      <th>Invoice</th>\n",
       "      <th>StockCode</th>\n",
       "      <th>Description</th>\n",
       "      <th>Quantity</th>\n",
       "      <th>InvoiceDate</th>\n",
       "      <th>Price</th>\n",
       "      <th>Customer ID</th>\n",
       "      <th>Country</th>\n",
       "    </tr>\n",
       "  </thead>\n",
       "  <tbody>\n",
       "    <tr>\n",
       "      <th>0</th>\n",
       "      <td>489434</td>\n",
       "      <td>85048</td>\n",
       "      <td>15CM CHRISTMAS GLASS BALL 20 LIGHTS</td>\n",
       "      <td>12</td>\n",
       "      <td>2009-12-01 07:45:00</td>\n",
       "      <td>6.95</td>\n",
       "      <td>13085.0</td>\n",
       "      <td>United Kingdom</td>\n",
       "    </tr>\n",
       "    <tr>\n",
       "      <th>1</th>\n",
       "      <td>489434</td>\n",
       "      <td>79323P</td>\n",
       "      <td>PINK CHERRY LIGHTS</td>\n",
       "      <td>12</td>\n",
       "      <td>2009-12-01 07:45:00</td>\n",
       "      <td>6.75</td>\n",
       "      <td>13085.0</td>\n",
       "      <td>United Kingdom</td>\n",
       "    </tr>\n",
       "    <tr>\n",
       "      <th>2</th>\n",
       "      <td>489434</td>\n",
       "      <td>79323W</td>\n",
       "      <td>WHITE CHERRY LIGHTS</td>\n",
       "      <td>12</td>\n",
       "      <td>2009-12-01 07:45:00</td>\n",
       "      <td>6.75</td>\n",
       "      <td>13085.0</td>\n",
       "      <td>United Kingdom</td>\n",
       "    </tr>\n",
       "    <tr>\n",
       "      <th>3</th>\n",
       "      <td>489434</td>\n",
       "      <td>22041</td>\n",
       "      <td>RECORD FRAME 7\" SINGLE SIZE</td>\n",
       "      <td>48</td>\n",
       "      <td>2009-12-01 07:45:00</td>\n",
       "      <td>2.10</td>\n",
       "      <td>13085.0</td>\n",
       "      <td>United Kingdom</td>\n",
       "    </tr>\n",
       "    <tr>\n",
       "      <th>4</th>\n",
       "      <td>489434</td>\n",
       "      <td>21232</td>\n",
       "      <td>STRAWBERRY CERAMIC TRINKET BOX</td>\n",
       "      <td>24</td>\n",
       "      <td>2009-12-01 07:45:00</td>\n",
       "      <td>1.25</td>\n",
       "      <td>13085.0</td>\n",
       "      <td>United Kingdom</td>\n",
       "    </tr>\n",
       "  </tbody>\n",
       "</table>\n",
       "</div>"
      ],
      "text/plain": [
       "  Invoice StockCode                          Description  Quantity  \\\n",
       "0  489434     85048  15CM CHRISTMAS GLASS BALL 20 LIGHTS        12   \n",
       "1  489434    79323P                   PINK CHERRY LIGHTS        12   \n",
       "2  489434    79323W                  WHITE CHERRY LIGHTS        12   \n",
       "3  489434     22041         RECORD FRAME 7\" SINGLE SIZE         48   \n",
       "4  489434     21232       STRAWBERRY CERAMIC TRINKET BOX        24   \n",
       "\n",
       "           InvoiceDate  Price  Customer ID         Country  \n",
       "0  2009-12-01 07:45:00   6.95      13085.0  United Kingdom  \n",
       "1  2009-12-01 07:45:00   6.75      13085.0  United Kingdom  \n",
       "2  2009-12-01 07:45:00   6.75      13085.0  United Kingdom  \n",
       "3  2009-12-01 07:45:00   2.10      13085.0  United Kingdom  \n",
       "4  2009-12-01 07:45:00   1.25      13085.0  United Kingdom  "
      ]
     },
     "execution_count": 160,
     "metadata": {},
     "output_type": "execute_result"
    }
   ],
   "source": [
    "import pandas as pd \n",
    "import numpy as np\n",
    "import matplotlib.pyplot as plt\n",
    "from sklearn.metrics import mean_squared_error\n",
    "from scipy import stats\n",
    "\n",
    "from lifetimes import ParetoNBDFitter\n",
    "from lifetimes import BetaGeoFitter\n",
    "import lifetimes\n",
    "from lifetimes.utils import calibration_and_holdout_data\n",
    "from lifetimes.utils import summary_data_from_transaction_data\n",
    "from pymc_marketing import clv\n",
    "\n",
    "df = pd.read_csv('online_retail_II.csv')\n",
    "df.head()"
   ]
  },
  {
   "cell_type": "code",
   "execution_count": 161,
   "metadata": {},
   "outputs": [
    {
     "data": {
      "text/html": [
       "<div>\n",
       "<style scoped>\n",
       "    .dataframe tbody tr th:only-of-type {\n",
       "        vertical-align: middle;\n",
       "    }\n",
       "\n",
       "    .dataframe tbody tr th {\n",
       "        vertical-align: top;\n",
       "    }\n",
       "\n",
       "    .dataframe thead th {\n",
       "        text-align: right;\n",
       "    }\n",
       "</style>\n",
       "<table border=\"1\" class=\"dataframe\">\n",
       "  <thead>\n",
       "    <tr style=\"text-align: right;\">\n",
       "      <th></th>\n",
       "      <th>InvoiceNo</th>\n",
       "      <th>StockCode</th>\n",
       "      <th>Description</th>\n",
       "      <th>Quantity</th>\n",
       "      <th>InvoiceDate</th>\n",
       "      <th>UnitPrice</th>\n",
       "      <th>CustomerID</th>\n",
       "      <th>Country</th>\n",
       "      <th>Date</th>\n",
       "      <th>Month</th>\n",
       "      <th>TotalPrice</th>\n",
       "      <th>Amount</th>\n",
       "    </tr>\n",
       "  </thead>\n",
       "  <tbody>\n",
       "    <tr>\n",
       "      <th>0</th>\n",
       "      <td>489434</td>\n",
       "      <td>85048</td>\n",
       "      <td>15CM CHRISTMAS GLASS BALL 20 LIGHTS</td>\n",
       "      <td>12</td>\n",
       "      <td>2009-12-01 07:45:00</td>\n",
       "      <td>6.95</td>\n",
       "      <td>13085.0</td>\n",
       "      <td>United Kingdom</td>\n",
       "      <td>2009-12-01</td>\n",
       "      <td>2009-12</td>\n",
       "      <td>83.4</td>\n",
       "      <td>83.4</td>\n",
       "    </tr>\n",
       "    <tr>\n",
       "      <th>1</th>\n",
       "      <td>489434</td>\n",
       "      <td>79323P</td>\n",
       "      <td>PINK CHERRY LIGHTS</td>\n",
       "      <td>12</td>\n",
       "      <td>2009-12-01 07:45:00</td>\n",
       "      <td>6.75</td>\n",
       "      <td>13085.0</td>\n",
       "      <td>United Kingdom</td>\n",
       "      <td>2009-12-01</td>\n",
       "      <td>2009-12</td>\n",
       "      <td>81.0</td>\n",
       "      <td>81.0</td>\n",
       "    </tr>\n",
       "    <tr>\n",
       "      <th>2</th>\n",
       "      <td>489434</td>\n",
       "      <td>79323W</td>\n",
       "      <td>WHITE CHERRY LIGHTS</td>\n",
       "      <td>12</td>\n",
       "      <td>2009-12-01 07:45:00</td>\n",
       "      <td>6.75</td>\n",
       "      <td>13085.0</td>\n",
       "      <td>United Kingdom</td>\n",
       "      <td>2009-12-01</td>\n",
       "      <td>2009-12</td>\n",
       "      <td>81.0</td>\n",
       "      <td>81.0</td>\n",
       "    </tr>\n",
       "    <tr>\n",
       "      <th>3</th>\n",
       "      <td>489434</td>\n",
       "      <td>22041</td>\n",
       "      <td>RECORD FRAME 7\" SINGLE SIZE</td>\n",
       "      <td>48</td>\n",
       "      <td>2009-12-01 07:45:00</td>\n",
       "      <td>2.10</td>\n",
       "      <td>13085.0</td>\n",
       "      <td>United Kingdom</td>\n",
       "      <td>2009-12-01</td>\n",
       "      <td>2009-12</td>\n",
       "      <td>100.8</td>\n",
       "      <td>100.8</td>\n",
       "    </tr>\n",
       "    <tr>\n",
       "      <th>4</th>\n",
       "      <td>489434</td>\n",
       "      <td>21232</td>\n",
       "      <td>STRAWBERRY CERAMIC TRINKET BOX</td>\n",
       "      <td>24</td>\n",
       "      <td>2009-12-01 07:45:00</td>\n",
       "      <td>1.25</td>\n",
       "      <td>13085.0</td>\n",
       "      <td>United Kingdom</td>\n",
       "      <td>2009-12-01</td>\n",
       "      <td>2009-12</td>\n",
       "      <td>30.0</td>\n",
       "      <td>30.0</td>\n",
       "    </tr>\n",
       "  </tbody>\n",
       "</table>\n",
       "</div>"
      ],
      "text/plain": [
       "  InvoiceNo StockCode                          Description  Quantity  \\\n",
       "0    489434     85048  15CM CHRISTMAS GLASS BALL 20 LIGHTS        12   \n",
       "1    489434    79323P                   PINK CHERRY LIGHTS        12   \n",
       "2    489434    79323W                  WHITE CHERRY LIGHTS        12   \n",
       "3    489434     22041         RECORD FRAME 7\" SINGLE SIZE         48   \n",
       "4    489434     21232       STRAWBERRY CERAMIC TRINKET BOX        24   \n",
       "\n",
       "          InvoiceDate  UnitPrice  CustomerID         Country        Date  \\\n",
       "0 2009-12-01 07:45:00       6.95     13085.0  United Kingdom  2009-12-01   \n",
       "1 2009-12-01 07:45:00       6.75     13085.0  United Kingdom  2009-12-01   \n",
       "2 2009-12-01 07:45:00       6.75     13085.0  United Kingdom  2009-12-01   \n",
       "3 2009-12-01 07:45:00       2.10     13085.0  United Kingdom  2009-12-01   \n",
       "4 2009-12-01 07:45:00       1.25     13085.0  United Kingdom  2009-12-01   \n",
       "\n",
       "     Month  TotalPrice  Amount  \n",
       "0  2009-12        83.4    83.4  \n",
       "1  2009-12        81.0    81.0  \n",
       "2  2009-12        81.0    81.0  \n",
       "3  2009-12       100.8   100.8  \n",
       "4  2009-12        30.0    30.0  "
      ]
     },
     "execution_count": 161,
     "metadata": {},
     "output_type": "execute_result"
    }
   ],
   "source": [
    "#df = pd.read_excel('Online Retail.xlsx')\n",
    "\n",
    "\n",
    "def data_preprocessing(df):\n",
    "    df = df.rename(columns={'Customer ID': 'CustomerID', 'Price': 'UnitPrice'})\n",
    "\n",
    "    df = df[df['CustomerID'].notna()].reset_index(drop=True)\n",
    "    df = df[df.Quantity > 0]\n",
    "    df = df[df.UnitPrice > 0]\n",
    "    non_product_codes = ['POST', 'D', 'M', 'C2', 'BANK CHARGES', 'AMAZONFEE', 'DCGSSBOY', \n",
    "                         'DCGSSGIRL', 'DOT', 'PADS', 'TEST001','TEST002', 'ADJUST', 'ADJUST2','SP1002']\n",
    "\n",
    "    df = df[~df['StockCode'].isin(non_product_codes)]\n",
    "\n",
    "    #time features engeneering\n",
    "    df['InvoiceDate'] = pd.to_datetime(df['InvoiceDate'])\n",
    "    df['Date'] = df['InvoiceDate'].dt.date\n",
    "    df['Month'] = df['InvoiceDate'].dt.to_period('M')\n",
    "    \n",
    "    df['TotalPrice'] = df['Quantity'] * df['UnitPrice']\n",
    "    df['Amount'] = df['Quantity'] * df['UnitPrice']\n",
    "    df = df[(np.abs(stats.zscore(df['TotalPrice'])) < 3.5)]\n",
    "    df = df[(np.abs(stats.zscore(df['Quantity'])) < 3.5)]\n",
    "    \n",
    "\n",
    "\n",
    "    #ebedding for the country and description columns\n",
    "    \n",
    "    df = df[df.Month != '2011-12']\n",
    "    df = df.rename(columns = {'Invoice':'InvoiceNo'})\n",
    "\n",
    "    return df\n",
    "\n",
    "df = data_preprocessing(df)\n",
    "\n",
    "df.head()"
   ]
  },
  {
   "cell_type": "code",
   "execution_count": 162,
   "metadata": {},
   "outputs": [
    {
     "data": {
      "text/plain": [
       "5791"
      ]
     },
     "execution_count": 162,
     "metadata": {},
     "output_type": "execute_result"
    }
   ],
   "source": [
    "df.CustomerID.nunique()"
   ]
  },
  {
   "cell_type": "code",
   "execution_count": 163,
   "metadata": {},
   "outputs": [],
   "source": [
    "def generate_rfm_data (df, last_transaction_date = pd.to_datetime('2011-12-09')):\n",
    "    agg_function = {\n",
    "    'CustomerID': 'first',\n",
    "    'Amount': 'sum',\n",
    "    'Date': 'min',\n",
    "    'Country': 'first'}\n",
    "\n",
    "    orders_df = df.groupby('InvoiceNo').agg(agg_function).reset_index()\n",
    "    orders_df.drop(orders_df.index[orders_df.Amount <=0], axis = 0, inplace = True)\n",
    "    rfm = summary_data_from_transaction_data(transactions=orders_df,\n",
    "                                         customer_id_col='CustomerID',\n",
    "                                         datetime_col='Date',\n",
    "                                         monetary_value_col = 'Amount',\n",
    "                                         observation_period_end=last_transaction_date,\n",
    "                                         freq='D',\n",
    "                                        include_first_transaction = True)\n",
    "    return rfm, orders_df\n",
    "\n",
    "def get_orders_df (df):\n",
    "    agg_function = {\n",
    "    'CustomerID': 'first',\n",
    "    'Amount': 'sum',\n",
    "    'Date': 'min',\n",
    "    'Country': 'first'}\n",
    "\n",
    "    orders_df = df.groupby('InvoiceNo').agg(agg_function).reset_index()\n",
    "    orders_df.drop(orders_df.index[orders_df.Amount <=0], axis = 0, inplace = True)\n",
    "    return orders_df\n",
    "\n",
    "def generate_calibration_and_holdout (df, last_transaction_date = '2011-12-09', offset = 30 ):\n",
    "    orders_df = get_orders_df(df)\n",
    "    rfm = calibration_and_holdout_data(transactions=orders_df,\n",
    "                                         customer_id_col='CustomerID',\n",
    "                                         datetime_col='Date',\n",
    "                                         monetary_value_col = 'Amount',\n",
    "                                         freq = 'D',\n",
    "                                         calibration_period_end=pd.to_datetime(last_transaction_date) - pd.DateOffset(days=offset),\n",
    "                                         observation_period_end=pd.to_datetime(last_transaction_date)\n",
    "                                        ).reset_index()\n",
    "    data = (\n",
    "    rfm[[ \"CustomerID\", 'frequency_cal', 'recency_cal', 'T_cal', 'monetary_value_cal']]\n",
    "    .rename(columns={'CustomerID':'customer_id',\n",
    "                    'frequency_cal':'frequency',\n",
    "                      'recency_cal':'recency',\n",
    "                    'monetary_value_cal':'monetary_value',\n",
    "                     'T_cal': 'T'\n",
    "                    })\n",
    "\n",
    "    )\n",
    "    data_holdout = (\n",
    "    rfm[[ \"CustomerID\", 'frequency_holdout', 'monetary_value_holdout']]\n",
    "    .rename(columns={'CustomerID':'customer_id',\n",
    "                     'frequency_holdout':'frequency',\n",
    "                     'monetary_value_holdout':'monetary_value'\n",
    "                     })\n",
    "    )\n",
    "    return data, data_holdout\n",
    "\n",
    "def generate_calibration_and_holdout_2 (df, last_transaction_date = '2011-12-09', offset = 30 ):\n",
    "   orders_df = get_orders_df(df)\n",
    "   rfm = clv.utils.rfm_train_test_split(transactions=orders_df,\n",
    "                                         customer_id_col='CustomerID',\n",
    "                                         datetime_col='Date',\n",
    "                                         monetary_value_col = 'Amount',\n",
    "                                         time_unit = 'D',\n",
    "                                         train_period_end=pd.to_datetime(last_transaction_date) - pd.DateOffset(days=offset),\n",
    "                                         test_period_end=pd.to_datetime(last_transaction_date)\n",
    "                                        ).reset_index()\n",
    "   rfm = rfm[rfm['monetary_value'] <=2000]\n",
    "   data = rfm[[ \"customer_id\", 'frequency', 'recency', 'T', 'monetary_value']]\n",
    "   data_holdout = (\n",
    "    rfm[[ \"customer_id\", 'test_frequency', 'test_monetary_value']]\n",
    "    .rename(columns={\n",
    "                     'test_frequency':'frequency',\n",
    "                     'test_monetary_value':'monetary_value'\n",
    "                     })\n",
    "    )\n",
    "   return data, data_holdout\n",
    "\n",
    "def transaction_churn_model_lt(data, prob_model = 'ParetoNBD', library  = 'pymc'):\n",
    "    if library != 'pymc':\n",
    "        if prob_model == 'ParetoNBD':\n",
    "            model = ParetoNBDFitter()\n",
    "        else:\n",
    "          model = lifetimes.BetaGeoFitter(penalizer_coef=0.0)\n",
    "\n",
    "        model.fit(data['frequency'], data['recency'], data['T'])\n",
    "        return model\n",
    "    if prob_model == 'ParetoNBD':\n",
    "        model = clv.ParetoNBDModel(data = data)\n",
    "    else:\n",
    "        model =clv.BetaGeoModel(data = data)\n",
    "    model.fit()\n",
    "    return model\n",
    "\n",
    "def predict_trasactions_churn(data, model, future_t = 52,  library = 'pymc'):\n",
    "  if library != 'pymc':\n",
    "    number_of_transactions = model.conditional_expected_number_of_purchases_up_to_time(t = future_t,\n",
    "                        frequency = data['frequency'],\n",
    "                        recency = data['recency'],\n",
    "                         T = data['T'])\n",
    "    alive_prob = model.conditional_probability_alive(\n",
    "                        frequency = data['frequency'],\n",
    "                        recency = data['recency'],\n",
    "                         T = data['T'])\n",
    "\n",
    "  else:\n",
    "    number_of_transactions = model.expected_purchases(future_t = future_t, data = data).mean(axis=(0, 1))\n",
    "    alive_prob = model.expected_probability_alive(data = data).mean(axis = (0, 1))\n",
    "  return number_of_transactions, alive_prob\n",
    "\n",
    "\n",
    "def gg_model(rfm):\n",
    "  nonzero_data = rfm.query('frequency > 0')\n",
    "  print('monetary value - frequency correlation: ', nonzero_data[[\"monetary_value\", \"frequency\"]].corr())\n",
    "\n",
    "  gg = clv.GammaGammaModel(data = nonzero_data)\n",
    "  gg.build_model()\n",
    "  gg.fit()\n",
    "  return gg\n",
    "\n",
    "def predict_clv(rfm, model, future_t):\n",
    "  expected_spend = model.expected_customer_spend(data = rfm)\n",
    "  expected_monetary_value = expected_spend.mean(axis = (0, 1)).to_dataframe(name = 'expected_spend').reset_index()\n",
    "  return expected_monetary_value"
   ]
  },
  {
   "cell_type": "code",
   "execution_count": 189,
   "metadata": {},
   "outputs": [
    {
     "data": {
      "text/html": [
       "<div>\n",
       "<style scoped>\n",
       "    .dataframe tbody tr th:only-of-type {\n",
       "        vertical-align: middle;\n",
       "    }\n",
       "\n",
       "    .dataframe tbody tr th {\n",
       "        vertical-align: top;\n",
       "    }\n",
       "\n",
       "    .dataframe thead th {\n",
       "        text-align: right;\n",
       "    }\n",
       "</style>\n",
       "<table border=\"1\" class=\"dataframe\">\n",
       "  <thead>\n",
       "    <tr style=\"text-align: right;\">\n",
       "      <th></th>\n",
       "      <th>customer_id</th>\n",
       "      <th>frequency</th>\n",
       "      <th>recency</th>\n",
       "      <th>T</th>\n",
       "      <th>monetary_value</th>\n",
       "    </tr>\n",
       "  </thead>\n",
       "  <tbody>\n",
       "    <tr>\n",
       "      <th>0</th>\n",
       "      <td>12346.0</td>\n",
       "      <td>1.0</td>\n",
       "      <td>118.0</td>\n",
       "      <td>547.0</td>\n",
       "      <td>142.31</td>\n",
       "    </tr>\n",
       "    <tr>\n",
       "      <th>1</th>\n",
       "      <td>12347.0</td>\n",
       "      <td>5.0</td>\n",
       "      <td>275.0</td>\n",
       "      <td>304.0</td>\n",
       "      <td>650.61</td>\n",
       "    </tr>\n",
       "    <tr>\n",
       "      <th>2</th>\n",
       "      <td>12348.0</td>\n",
       "      <td>3.0</td>\n",
       "      <td>190.0</td>\n",
       "      <td>338.0</td>\n",
       "      <td>389.08</td>\n",
       "    </tr>\n",
       "    <tr>\n",
       "      <th>3</th>\n",
       "      <td>12349.0</td>\n",
       "      <td>1.0</td>\n",
       "      <td>182.0</td>\n",
       "      <td>489.0</td>\n",
       "      <td>1152.62</td>\n",
       "    </tr>\n",
       "    <tr>\n",
       "      <th>4</th>\n",
       "      <td>12350.0</td>\n",
       "      <td>0.0</td>\n",
       "      <td>0.0</td>\n",
       "      <td>210.0</td>\n",
       "      <td>0.00</td>\n",
       "    </tr>\n",
       "  </tbody>\n",
       "</table>\n",
       "</div>"
      ],
      "text/plain": [
       "   customer_id  frequency  recency      T  monetary_value\n",
       "0      12346.0        1.0    118.0  547.0          142.31\n",
       "1      12347.0        5.0    275.0  304.0          650.61\n",
       "2      12348.0        3.0    190.0  338.0          389.08\n",
       "3      12349.0        1.0    182.0  489.0         1152.62\n",
       "4      12350.0        0.0      0.0  210.0            0.00"
      ]
     },
     "execution_count": 189,
     "metadata": {},
     "output_type": "execute_result"
    }
   ],
   "source": [
    "rfm_cal, rfm_holdout = generate_calibration_and_holdout_2(df, last_transaction_date = '2011-11-30', offset = 91)\n",
    "rfm_cal.head()"
   ]
  },
  {
   "cell_type": "code",
   "execution_count": 188,
   "metadata": {},
   "outputs": [
    {
     "data": {
      "text/plain": [
       "(5172, 5172)"
      ]
     },
     "execution_count": 188,
     "metadata": {},
     "output_type": "execute_result"
    }
   ],
   "source": [
    "rfm_holdout.customer_id.nunique(), rfm_holdout.customer_id.nunique()\n"
   ]
  },
  {
   "cell_type": "code",
   "execution_count": 182,
   "metadata": {},
   "outputs": [
    {
     "data": {
      "application/vnd.jupyter.widget-view+json": {
       "model_id": "e6b4bb4c2ec94e51811248d415a3b71e",
       "version_major": 2,
       "version_minor": 0
      },
      "text/plain": [
       "Output()"
      ]
     },
     "metadata": {},
     "output_type": "display_data"
    },
    {
     "data": {
      "text/html": [
       "<pre style=\"white-space:pre;overflow-x:auto;line-height:normal;font-family:Menlo,'DejaVu Sans Mono',consolas,'Courier New',monospace\"></pre>\n"
      ],
      "text/plain": []
     },
     "metadata": {},
     "output_type": "display_data"
    },
    {
     "data": {
      "text/html": [
       "<pre style=\"white-space:pre;overflow-x:auto;line-height:normal;font-family:Menlo,'DejaVu Sans Mono',consolas,'Courier New',monospace\">\n",
       "</pre>\n"
      ],
      "text/plain": [
       "\n"
      ]
     },
     "metadata": {},
     "output_type": "display_data"
    }
   ],
   "source": [
    "#bg_lt = transaction_churn_model_lt(rfm_cal, prob_model = 'BG-NBD', library  = 'lt')\n",
    "bg_lt = transaction_churn_model_lt(rfm_cal, prob_model = 'ParetoNBD', library  = 'pymc')"
   ]
  },
  {
   "cell_type": "code",
   "execution_count": 187,
   "metadata": {},
   "outputs": [
    {
     "name": "stderr",
     "output_type": "stream",
     "text": [
      "Initializing NUTS using jitter+adapt_diag...\n"
     ]
    },
    {
     "name": "stdout",
     "output_type": "stream",
     "text": [
      "monetary value - frequency correlation:                  monetary_value  frequency\n",
      "monetary_value        1.000000   0.162653\n",
      "frequency             0.162653   1.000000\n"
     ]
    },
    {
     "name": "stderr",
     "output_type": "stream",
     "text": [
      "Multiprocess sampling (4 chains in 4 jobs)\n",
      "NUTS: [p, q, v]\n"
     ]
    },
    {
     "data": {
      "application/vnd.jupyter.widget-view+json": {
       "model_id": "90a3428aabaa44309c37391911521cea",
       "version_major": 2,
       "version_minor": 0
      },
      "text/plain": [
       "Output()"
      ]
     },
     "metadata": {},
     "output_type": "display_data"
    },
    {
     "data": {
      "text/html": [
       "<pre style=\"white-space:pre;overflow-x:auto;line-height:normal;font-family:Menlo,'DejaVu Sans Mono',consolas,'Courier New',monospace\"></pre>\n"
      ],
      "text/plain": []
     },
     "metadata": {},
     "output_type": "display_data"
    },
    {
     "data": {
      "text/html": [
       "<pre style=\"white-space:pre;overflow-x:auto;line-height:normal;font-family:Menlo,'DejaVu Sans Mono',consolas,'Courier New',monospace\">\n",
       "</pre>\n"
      ],
      "text/plain": [
       "\n"
      ]
     },
     "metadata": {},
     "output_type": "display_data"
    },
    {
     "name": "stderr",
     "output_type": "stream",
     "text": [
      "Sampling 4 chains for 1_000 tune and 1_000 draw iterations (4_000 + 4_000 draws total) took 9 seconds.\n"
     ]
    }
   ],
   "source": [
    "gg = gg_model(rfm_cal)"
   ]
  },
  {
   "cell_type": "code",
   "execution_count": 190,
   "metadata": {},
   "outputs": [
    {
     "data": {
      "text/html": [
       "<div>\n",
       "<style scoped>\n",
       "    .dataframe tbody tr th:only-of-type {\n",
       "        vertical-align: middle;\n",
       "    }\n",
       "\n",
       "    .dataframe tbody tr th {\n",
       "        vertical-align: top;\n",
       "    }\n",
       "\n",
       "    .dataframe thead th {\n",
       "        text-align: right;\n",
       "    }\n",
       "</style>\n",
       "<table border=\"1\" class=\"dataframe\">\n",
       "  <thead>\n",
       "    <tr style=\"text-align: right;\">\n",
       "      <th></th>\n",
       "      <th>customer_id</th>\n",
       "      <th>frequency</th>\n",
       "      <th>monetary_value</th>\n",
       "      <th>expected_transactions</th>\n",
       "      <th>expected_alive_prob</th>\n",
       "      <th>expected_spend</th>\n",
       "      <th>expected_clv</th>\n",
       "      <th>real_clv</th>\n",
       "    </tr>\n",
       "  </thead>\n",
       "  <tbody>\n",
       "    <tr>\n",
       "      <th>0</th>\n",
       "      <td>12346.0</td>\n",
       "      <td>0.0</td>\n",
       "      <td>0.00</td>\n",
       "      <td>0.188579</td>\n",
       "      <td>0.748017</td>\n",
       "      <td>373.459793</td>\n",
       "      <td>70.426769</td>\n",
       "      <td>0.00</td>\n",
       "    </tr>\n",
       "    <tr>\n",
       "      <th>1</th>\n",
       "      <td>12347.0</td>\n",
       "      <td>1.0</td>\n",
       "      <td>1294.32</td>\n",
       "      <td>1.365151</td>\n",
       "      <td>0.992015</td>\n",
       "      <td>700.332779</td>\n",
       "      <td>956.060282</td>\n",
       "      <td>1294.32</td>\n",
       "    </tr>\n",
       "    <tr>\n",
       "      <th>2</th>\n",
       "      <td>12348.0</td>\n",
       "      <td>1.0</td>\n",
       "      <td>270.00</td>\n",
       "      <td>0.750016</td>\n",
       "      <td>0.913225</td>\n",
       "      <td>336.713560</td>\n",
       "      <td>252.540431</td>\n",
       "      <td>270.00</td>\n",
       "    </tr>\n",
       "    <tr>\n",
       "      <th>3</th>\n",
       "      <td>12349.0</td>\n",
       "      <td>1.0</td>\n",
       "      <td>1457.55</td>\n",
       "      <td>0.243986</td>\n",
       "      <td>0.877453</td>\n",
       "      <td>758.277138</td>\n",
       "      <td>185.008885</td>\n",
       "      <td>1457.55</td>\n",
       "    </tr>\n",
       "    <tr>\n",
       "      <th>4</th>\n",
       "      <td>12350.0</td>\n",
       "      <td>0.0</td>\n",
       "      <td>0.00</td>\n",
       "      <td>0.182610</td>\n",
       "      <td>0.791153</td>\n",
       "      <td>373.459793</td>\n",
       "      <td>68.197314</td>\n",
       "      <td>0.00</td>\n",
       "    </tr>\n",
       "  </tbody>\n",
       "</table>\n",
       "</div>"
      ],
      "text/plain": [
       "   customer_id  frequency  monetary_value  expected_transactions  \\\n",
       "0      12346.0        0.0            0.00               0.188579   \n",
       "1      12347.0        1.0         1294.32               1.365151   \n",
       "2      12348.0        1.0          270.00               0.750016   \n",
       "3      12349.0        1.0         1457.55               0.243986   \n",
       "4      12350.0        0.0            0.00               0.182610   \n",
       "\n",
       "   expected_alive_prob  expected_spend  expected_clv  real_clv  \n",
       "0             0.748017      373.459793     70.426769      0.00  \n",
       "1             0.992015      700.332779    956.060282   1294.32  \n",
       "2             0.913225      336.713560    252.540431    270.00  \n",
       "3             0.877453      758.277138    185.008885   1457.55  \n",
       "4             0.791153      373.459793     68.197314      0.00  "
      ]
     },
     "execution_count": 190,
     "metadata": {},
     "output_type": "execute_result"
    }
   ],
   "source": [
    "future_transactions, alive_prob = predict_trasactions_churn(rfm_cal, bg_lt, future_t = 91, library = 'pymc')\n",
    "rfm_holdout['expected_transactions'] = future_transactions\n",
    "rfm_holdout['expected_alive_prob'] = alive_prob\n",
    "#rfm_holdout['expected_alive_prob']= rfm_holdout['expected_alive_prob'].apply(lambda x: 0 if x <0.3 else x)\n",
    "#rfm_holdout['expected_transactions']= rfm_holdout['expected_transactions'].apply(lambda x: 0 if x <0.3 else x)\n",
    "\n",
    "expected_monetary_value = predict_clv(rfm_holdout, gg, future_t = 90)\n",
    "rfm_holdout = pd.merge(rfm_holdout, expected_monetary_value, on = 'customer_id', how = 'left')\n",
    "rfm_holdout['expected_clv'] = rfm_holdout.expected_spend * rfm_holdout.expected_transactions\n",
    "rfm_holdout['real_clv'] = rfm_holdout.monetary_value * rfm_holdout.frequency\n",
    "\n",
    "rfm_holdout.head()"
   ]
  },
  {
   "cell_type": "code",
   "execution_count": 191,
   "metadata": {},
   "outputs": [
    {
     "name": "stdout",
     "output_type": "stream",
     "text": [
      "931.6207454894128\n",
      "294.6147920759643\n",
      "146.13830961853193\n",
      "0.5985928077706173\n"
     ]
    }
   ],
   "source": [
    "from sklearn.metrics import r2_score, mean_absolute_error\n",
    "\n",
    "def smape(y_true, y_pred, epsilon = 1e-10):\n",
    "  y_true, y_pred = np.array(y_true), np.array(y_pred)\n",
    "  #y_true = np.maximum(y_true, 100) \n",
    "  denominator = (np.abs(y_true) + np.abs(y_pred)) / 2\n",
    "  diff = np.abs(y_true - y_pred)\n",
    "  #denominator = np.where(denominator == 0, epsilon, denominator)\n",
    "  smape_value = np.mean(diff / denominator)*100\n",
    "  return smape_value\n",
    "\n",
    "rmse = np.sqrt(mean_squared_error(rfm_holdout['real_clv'], rfm_holdout['expected_clv']))\n",
    "print(rmse)\n",
    "mae = mean_absolute_error(rfm_holdout['real_clv'], rfm_holdout['expected_clv'])\n",
    "print(mae)\n",
    "smape_value = smape(rfm_holdout['real_clv'], rfm_holdout['expected_clv'])\n",
    "print(smape_value)\n",
    "\n",
    "r2 = r2_score(rfm_holdout['real_clv'], rfm_holdout['expected_clv'])\n",
    "print(r2)"
   ]
  },
  {
   "cell_type": "code",
   "execution_count": 178,
   "metadata": {},
   "outputs": [
    {
     "name": "stderr",
     "output_type": "stream",
     "text": [
      "/var/folders/1y/r5jmwn4n0r599hsjjrhbwstm0000gn/T/ipykernel_20624/3541655507.py:17: UserWarning: FigureCanvasAgg is non-interactive, and thus cannot be shown\n",
      "  fig.show()\n"
     ]
    },
    {
     "data": {
      "image/png": "[encoded data removed]",
      "text/plain": [
       "<Figure size 1800x500 with 2 Axes>"
      ]
     },
     "metadata": {},
     "output_type": "display_data"
    }
   ],
   "source": [
    "plot_data = rfm_holdout.sort_values(by = 'real_clv', ascending = True).reset_index(drop = True)\n",
    "#plot_data = plot_data[plot_data.real_clv > 0]\n",
    "positive_df = plot_data[plot_data['real_clv'] > 0]\n",
    "zero_df = plot_data[plot_data['real_clv'] == 0]\n",
    "#test_smooth = smooth_funct(plot_data['expected_clv'].values)\n",
    "\n",
    "fig, ax = plt.subplots(1,2, figsize = (18, 5))\n",
    "ax[1].plot( positive_df['expected_clv'], color = 'orange', label = 'Prediction')\n",
    "ax[1].plot( positive_df['real_clv'],color  = 'blue', label  = 'Real')\n",
    "#ax[1].set_ylim(0, 5e5)\n",
    "ax[1].legend()\n",
    "ax[0].plot( zero_df['expected_clv'], color = 'orange', label = 'Prediction')\n",
    "ax[0].plot( zero_df['real_clv'], color  = 'blue', label  = 'Real')\n",
    "ax[0].legend()\n",
    "ax[1].set_ylim(0, 30000)\n",
    "ax[0].set_ylim(0, 10000)\n",
    "fig.show()"
   ]
  },
  {
   "cell_type": "code",
   "execution_count": 181,
   "metadata": {},
   "outputs": [
    {
     "data": {
      "text/html": [
       "<div>\n",
       "<style scoped>\n",
       "    .dataframe tbody tr th:only-of-type {\n",
       "        vertical-align: middle;\n",
       "    }\n",
       "\n",
       "    .dataframe tbody tr th {\n",
       "        vertical-align: top;\n",
       "    }\n",
       "\n",
       "    .dataframe thead th {\n",
       "        text-align: right;\n",
       "    }\n",
       "</style>\n",
       "<table border=\"1\" class=\"dataframe\">\n",
       "  <thead>\n",
       "    <tr style=\"text-align: right;\">\n",
       "      <th></th>\n",
       "      <th>Predictions</th>\n",
       "      <th>Targets</th>\n",
       "    </tr>\n",
       "  </thead>\n",
       "  <tbody>\n",
       "    <tr>\n",
       "      <th>count</th>\n",
       "      <td>5172.000000</td>\n",
       "      <td>5172.000000</td>\n",
       "    </tr>\n",
       "    <tr>\n",
       "      <th>mean</th>\n",
       "      <td>301.360584</td>\n",
       "      <td>404.618188</td>\n",
       "    </tr>\n",
       "    <tr>\n",
       "      <th>std</th>\n",
       "      <td>789.747210</td>\n",
       "      <td>1470.579695</td>\n",
       "    </tr>\n",
       "    <tr>\n",
       "      <th>min</th>\n",
       "      <td>0.000031</td>\n",
       "      <td>0.000000</td>\n",
       "    </tr>\n",
       "    <tr>\n",
       "      <th>25%</th>\n",
       "      <td>62.055392</td>\n",
       "      <td>0.000000</td>\n",
       "    </tr>\n",
       "    <tr>\n",
       "      <th>50%</th>\n",
       "      <td>137.815872</td>\n",
       "      <td>0.000000</td>\n",
       "    </tr>\n",
       "    <tr>\n",
       "      <th>75%</th>\n",
       "      <td>302.392640</td>\n",
       "      <td>409.880000</td>\n",
       "    </tr>\n",
       "    <tr>\n",
       "      <th>max</th>\n",
       "      <td>30516.281936</td>\n",
       "      <td>58961.090000</td>\n",
       "    </tr>\n",
       "  </tbody>\n",
       "</table>\n",
       "</div>"
      ],
      "text/plain": [
       "        Predictions       Targets\n",
       "count   5172.000000   5172.000000\n",
       "mean     301.360584    404.618188\n",
       "std      789.747210   1470.579695\n",
       "min        0.000031      0.000000\n",
       "25%       62.055392      0.000000\n",
       "50%      137.815872      0.000000\n",
       "75%      302.392640    409.880000\n",
       "max    30516.281936  58961.090000"
      ]
     },
     "execution_count": 181,
     "metadata": {},
     "output_type": "execute_result"
    }
   ],
   "source": [
    "\n",
    "prob_results = rfm_holdout[['expected_clv','real_clv']]\n",
    "prob_results.rename(columns = {'expected_clv': 'Predictions', 'real_clv': 'Targets'}, inplace = True)\n",
    "prob_results.to_csv('probabilistic_model_results.csv', index = False)\n",
    "prob_results.describe()"
   ]
  },
  {
   "cell_type": "code",
   "execution_count": 180,
   "metadata": {},
   "outputs": [
    {
     "data": {
      "text/plain": [
       "(2961, 2)"
      ]
     },
     "execution_count": 180,
     "metadata": {},
     "output_type": "execute_result"
    }
   ],
   "source": [
    "prob_results[prob_results['Targets'] == 0].shape"
   ]
  },
  {
   "cell_type": "code",
   "execution_count": 30,
   "metadata": {},
   "outputs": [
    {
     "data": {
      "text/plain": [
       "0.10536051565782635"
      ]
     },
     "execution_count": 30,
     "metadata": {},
     "output_type": "execute_result"
    }
   ],
   "source": [
    "np.log(100/90)"
   ]
  },
  {
   "cell_type": "code",
   "execution_count": 31,
   "metadata": {},
   "outputs": [
    {
     "data": {
      "text/plain": [
       "-0.0953101798043249"
      ]
     },
     "execution_count": 31,
     "metadata": {},
     "output_type": "execute_result"
    }
   ],
   "source": [
    "np.log(100/110)"
   ]
  }
 ],
 "metadata": {
  "kernelspec": {
   "display_name": "base",
   "language": "python",
   "name": "python3"
  },
  "language_info": {
   "codemirror_mode": {
    "name": "ipython",
    "version": 3
   },
   "file_extension": ".py",
   "mimetype": "text/x-python",
   "name": "python",
   "nbconvert_exporter": "python",
   "pygments_lexer": "ipython3",
   "version": "3.12.7"
  }
 },
 "nbformat": 4,
 "nbformat_minor": 2
}
